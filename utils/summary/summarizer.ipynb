{
  "nbformat": 4,
  "nbformat_minor": 0,
  "metadata": {
    "colab": {
      "provenance": []
    },
    "kernelspec": {
      "name": "python3",
      "display_name": "Python 3"
    },
    "language_info": {
      "name": "python"
    }
  },
  "cells": [
    {
      "cell_type": "code",
      "execution_count": 393,
      "metadata": {
        "id": "TCj9RTKEm4Fn"
      },
      "outputs": [],
      "source": [
        "from transformers import pipeline"
      ]
    },
    {
      "cell_type": "code",
      "source": [
        "df = pd.read_csv('/content/drive/MyDrive/AKAM Hackathon/summary_data.csv')"
      ],
      "metadata": {
        "id": "x-aF-KwSMjzJ"
      },
      "execution_count": 394,
      "outputs": []
    },
    {
      "cell_type": "code",
      "source": [
        "summarizer = pipeline('summarization')"
      ],
      "metadata": {
        "colab": {
          "base_uri": "https://localhost:8080/"
        },
        "id": "Jte_fSRXFnGy",
        "outputId": "478b2768-caea-4612-f364-6a04564e9fb9"
      },
      "execution_count": 395,
      "outputs": [
        {
          "output_type": "stream",
          "name": "stderr",
          "text": [
            "No model was supplied, defaulted to sshleifer/distilbart-cnn-12-6 and revision a4f8f3e (https://huggingface.co/sshleifer/distilbart-cnn-12-6).\n",
            "Using a pipeline without specifying a model name and revision in production is not recommended.\n"
          ]
        }
      ]
    },
    {
      "cell_type": "code",
      "source": [
        "df['Bullets'][3]"
      ],
      "metadata": {
        "id": "Td7QxJP-oQpT",
        "outputId": "85710e81-3bb5-467f-e7f5-6c8b0540f6ce",
        "colab": {
          "base_uri": "https://localhost:8080/",
          "height": 107
        }
      },
      "execution_count": 396,
      "outputs": [
        {
          "output_type": "execute_result",
          "data": {
            "text/plain": [
              "'Education or tuition fees paid in school/college are not eligible under tuition assistance scheme. Any additional tuition taken outside the school or college is eligible for assistance Tuition incentive assistance of Rs.15,000/- per annum will be given to non-reserved category students who have secured 70% in class-10th and are studying in science stream in class-11th, 12th. Eligibility Criteria: 70 percent or above in class-10th. Assistance will be available only once in every year.'"
            ],
            "application/vnd.google.colaboratory.intrinsic+json": {
              "type": "string"
            }
          },
          "metadata": {},
          "execution_count": 396
        }
      ]
    },
    {
      "cell_type": "code",
      "source": [
        "df.head()"
      ],
      "metadata": {
        "colab": {
          "base_uri": "https://localhost:8080/",
          "height": 206
        },
        "id": "GS220qCazy2y",
        "outputId": "443152d4-2b1e-4fd7-c33e-7099a89c7227"
      },
      "execution_count": 397,
      "outputs": [
        {
          "output_type": "execute_result",
          "data": {
            "text/plain": [
              "                                        Name  \\\n",
              "0                        Academic study plan   \n",
              "1                         Study Abroad Loans   \n",
              "2                       Meal Bill Assistance   \n",
              "3                        Coaching assistance   \n",
              "4  Coaching help for JEE, GUJCET, NEET exam.   \n",
              "\n",
              "                                             Bullets  \n",
              "0  Applicant must belong to non-reserved category...  \n",
              "1  Students from unreserved category for higher s...  \n",
              "2  Rs.1500 per month for 10 months for non-reserv...  \n",
              "3  Education or tuition fees paid in school/colle...  \n",
              "4                                                NaN  "
            ],
            "text/html": [
              "\n",
              "  <div id=\"df-ac0ca9b6-6218-4c08-95bf-dc32700422d6\">\n",
              "    <div class=\"colab-df-container\">\n",
              "      <div>\n",
              "<style scoped>\n",
              "    .dataframe tbody tr th:only-of-type {\n",
              "        vertical-align: middle;\n",
              "    }\n",
              "\n",
              "    .dataframe tbody tr th {\n",
              "        vertical-align: top;\n",
              "    }\n",
              "\n",
              "    .dataframe thead th {\n",
              "        text-align: right;\n",
              "    }\n",
              "</style>\n",
              "<table border=\"1\" class=\"dataframe\">\n",
              "  <thead>\n",
              "    <tr style=\"text-align: right;\">\n",
              "      <th></th>\n",
              "      <th>Name</th>\n",
              "      <th>Bullets</th>\n",
              "    </tr>\n",
              "  </thead>\n",
              "  <tbody>\n",
              "    <tr>\n",
              "      <th>0</th>\n",
              "      <td>Academic study plan</td>\n",
              "      <td>Applicant must belong to non-reserved category...</td>\n",
              "    </tr>\n",
              "    <tr>\n",
              "      <th>1</th>\n",
              "      <td>Study Abroad Loans</td>\n",
              "      <td>Students from unreserved category for higher s...</td>\n",
              "    </tr>\n",
              "    <tr>\n",
              "      <th>2</th>\n",
              "      <td>Meal Bill Assistance</td>\n",
              "      <td>Rs.1500 per month for 10 months for non-reserv...</td>\n",
              "    </tr>\n",
              "    <tr>\n",
              "      <th>3</th>\n",
              "      <td>Coaching assistance</td>\n",
              "      <td>Education or tuition fees paid in school/colle...</td>\n",
              "    </tr>\n",
              "    <tr>\n",
              "      <th>4</th>\n",
              "      <td>Coaching help for JEE, GUJCET, NEET exam.</td>\n",
              "      <td>NaN</td>\n",
              "    </tr>\n",
              "  </tbody>\n",
              "</table>\n",
              "</div>\n",
              "      <button class=\"colab-df-convert\" onclick=\"convertToInteractive('df-ac0ca9b6-6218-4c08-95bf-dc32700422d6')\"\n",
              "              title=\"Convert this dataframe to an interactive table.\"\n",
              "              style=\"display:none;\">\n",
              "        \n",
              "  <svg xmlns=\"http://www.w3.org/2000/svg\" height=\"24px\"viewBox=\"0 0 24 24\"\n",
              "       width=\"24px\">\n",
              "    <path d=\"M0 0h24v24H0V0z\" fill=\"none\"/>\n",
              "    <path d=\"M18.56 5.44l.94 2.06.94-2.06 2.06-.94-2.06-.94-.94-2.06-.94 2.06-2.06.94zm-11 1L8.5 8.5l.94-2.06 2.06-.94-2.06-.94L8.5 2.5l-.94 2.06-2.06.94zm10 10l.94 2.06.94-2.06 2.06-.94-2.06-.94-.94-2.06-.94 2.06-2.06.94z\"/><path d=\"M17.41 7.96l-1.37-1.37c-.4-.4-.92-.59-1.43-.59-.52 0-1.04.2-1.43.59L10.3 9.45l-7.72 7.72c-.78.78-.78 2.05 0 2.83L4 21.41c.39.39.9.59 1.41.59.51 0 1.02-.2 1.41-.59l7.78-7.78 2.81-2.81c.8-.78.8-2.07 0-2.86zM5.41 20L4 18.59l7.72-7.72 1.47 1.35L5.41 20z\"/>\n",
              "  </svg>\n",
              "      </button>\n",
              "      \n",
              "  <style>\n",
              "    .colab-df-container {\n",
              "      display:flex;\n",
              "      flex-wrap:wrap;\n",
              "      gap: 12px;\n",
              "    }\n",
              "\n",
              "    .colab-df-convert {\n",
              "      background-color: #E8F0FE;\n",
              "      border: none;\n",
              "      border-radius: 50%;\n",
              "      cursor: pointer;\n",
              "      display: none;\n",
              "      fill: #1967D2;\n",
              "      height: 32px;\n",
              "      padding: 0 0 0 0;\n",
              "      width: 32px;\n",
              "    }\n",
              "\n",
              "    .colab-df-convert:hover {\n",
              "      background-color: #E2EBFA;\n",
              "      box-shadow: 0px 1px 2px rgba(60, 64, 67, 0.3), 0px 1px 3px 1px rgba(60, 64, 67, 0.15);\n",
              "      fill: #174EA6;\n",
              "    }\n",
              "\n",
              "    [theme=dark] .colab-df-convert {\n",
              "      background-color: #3B4455;\n",
              "      fill: #D2E3FC;\n",
              "    }\n",
              "\n",
              "    [theme=dark] .colab-df-convert:hover {\n",
              "      background-color: #434B5C;\n",
              "      box-shadow: 0px 1px 3px 1px rgba(0, 0, 0, 0.15);\n",
              "      filter: drop-shadow(0px 1px 2px rgba(0, 0, 0, 0.3));\n",
              "      fill: #FFFFFF;\n",
              "    }\n",
              "  </style>\n",
              "\n",
              "      <script>\n",
              "        const buttonEl =\n",
              "          document.querySelector('#df-ac0ca9b6-6218-4c08-95bf-dc32700422d6 button.colab-df-convert');\n",
              "        buttonEl.style.display =\n",
              "          google.colab.kernel.accessAllowed ? 'block' : 'none';\n",
              "\n",
              "        async function convertToInteractive(key) {\n",
              "          const element = document.querySelector('#df-ac0ca9b6-6218-4c08-95bf-dc32700422d6');\n",
              "          const dataTable =\n",
              "            await google.colab.kernel.invokeFunction('convertToInteractive',\n",
              "                                                     [key], {});\n",
              "          if (!dataTable) return;\n",
              "\n",
              "          const docLinkHtml = 'Like what you see? Visit the ' +\n",
              "            '<a target=\"_blank\" href=https://colab.research.google.com/notebooks/data_table.ipynb>data table notebook</a>'\n",
              "            + ' to learn more about interactive tables.';\n",
              "          element.innerHTML = '';\n",
              "          dataTable['output_type'] = 'display_data';\n",
              "          await google.colab.output.renderOutput(dataTable, element);\n",
              "          const docLink = document.createElement('div');\n",
              "          docLink.innerHTML = docLinkHtml;\n",
              "          element.appendChild(docLink);\n",
              "        }\n",
              "      </script>\n",
              "    </div>\n",
              "  </div>\n",
              "  "
            ]
          },
          "metadata": {},
          "execution_count": 397
        }
      ]
    },
    {
      "cell_type": "code",
      "source": [
        "df['Name']=df['Name'].astype(str).str.lower()"
      ],
      "metadata": {
        "id": "b6ylj2A0AhMM"
      },
      "execution_count": 398,
      "outputs": []
    },
    {
      "cell_type": "code",
      "source": [
        "name_query = \"study Abroad Loans\"\n",
        "name_query_lower = name_query.lower()"
      ],
      "metadata": {
        "id": "CpVTZRidv0_c"
      },
      "execution_count": 399,
      "outputs": []
    },
    {
      "cell_type": "code",
      "source": [
        "for ind in df.index:\n",
        "    # print(df['Name'][ind])\n",
        "    if name_query_lower == df['Name'][ind]:\n",
        "      article = df['Bullets'][ind]\n",
        "\n",
        "print(article)"
      ],
      "metadata": {
        "colab": {
          "base_uri": "https://localhost:8080/"
        },
        "id": "GGHUVQEpw8nM",
        "outputId": "0645011a-2a21-4623-ca2d-c302416aa418"
      },
      "execution_count": 400,
      "outputs": [
        {
          "output_type": "stream",
          "name": "stdout",
          "text": [
            "Students from unreserved category for higher studies abroad for higher studies abroad for M.B.B.S after Class-12 only, Graduation (even if degree after Diploma is valid) Post Graduation and Post Graduation Diploma or equivalent course known by other name\r\n",
            "                                    For a total of Rs. 15.00 lakhs will be provided by the Foreign Study Loan Corporation. For loans with a total loan amount of Rs.7.50 lakh or less for the entire course, an encumbrance of one and a half times the value of the loan amount must be registered on the beneficiary's own or a relative's property. If the total loan amount of the entire course is more than Rs.7.50 lakhs, the amount equal to the total amount has to be mortgaged in favor of the immovable property corporation of himself or any other relative. Each borrower shall furnish five post-dated checks signed in favor of the Corporation In case of a total loan up to Rs.5.00 lakhs, it has to be paid in equal monthly installments in 5 (five) years after 1 year of completion of studies. In case of a loan of more than Rs.5.00 Lakhs, it has to be paid in equal monthly installments in 6 (six) years after 1 year of completion of studies. The repayable loan money will be credited first with interest. The borrower can repay the loan even before the fixed time limit\n"
          ]
        }
      ]
    },
    {
      "cell_type": "code",
      "source": [
        "summary = summarizer(article , max_length = 150 , min_length = 50, do_sample = False)"
      ],
      "metadata": {
        "id": "I6h5LQxxHo4f"
      },
      "execution_count": 401,
      "outputs": []
    },
    {
      "cell_type": "code",
      "source": [
        "summary"
      ],
      "metadata": {
        "colab": {
          "base_uri": "https://localhost:8080/"
        },
        "id": "ZvTOnQW11NrE",
        "outputId": "fbb00a28-640c-4410-ee22-72519ab089d9"
      },
      "execution_count": 402,
      "outputs": [
        {
          "output_type": "execute_result",
          "data": {
            "text/plain": [
              "[{'summary_text': \" For loans with a total loan amount of Rs.7.50 lakh or less for the entire course, an encumbrance of one and a half times the value of the loan amount must be registered on the beneficiary's own or a relative's property . In case of a loan of more than Rs.5.00 Lakhs, it has to be paid in equal monthly installments in 6 (six) years after 1 year of completion of studies .\"}]"
            ]
          },
          "metadata": {},
          "execution_count": 402
        }
      ]
    },
    {
      "cell_type": "code",
      "source": [
        "summary_f = summary[0]['summary_text']"
      ],
      "metadata": {
        "id": "Upq4B7N11bei"
      },
      "execution_count": 403,
      "outputs": []
    },
    {
      "cell_type": "code",
      "source": [
        "import re\n",
        "import pandas as pd"
      ],
      "metadata": {
        "id": "LKgvqtaFH1E8"
      },
      "execution_count": 404,
      "outputs": []
    },
    {
      "cell_type": "code",
      "source": [
        "pat = ('(?<!Dr)(?<!Esq)\\. +(?=[A-Z])')"
      ],
      "metadata": {
        "id": "5sBZ3TNLJJN5"
      },
      "execution_count": 405,
      "outputs": []
    },
    {
      "cell_type": "code",
      "source": [
        "summary_ff = re.sub(pat,'.\\n',summary_f)"
      ],
      "metadata": {
        "id": "uz0HdI3QLek1"
      },
      "execution_count": 406,
      "outputs": []
    },
    {
      "cell_type": "code",
      "source": [
        "import pyperclip"
      ],
      "metadata": {
        "id": "l9YvW5vPL2dz"
      },
      "execution_count": 407,
      "outputs": []
    },
    {
      "cell_type": "code",
      "source": [
        "lines = summary_ff.split(\"\\n\")"
      ],
      "metadata": {
        "id": "lKQhrXcBL8pk"
      },
      "execution_count": 408,
      "outputs": []
    },
    {
      "cell_type": "code",
      "source": [
        "\n",
        "for i in range(len(lines)):\n",
        "    lines[i] = \"-\" + lines[i]\n",
        "  \n",
        "# converts the list of different\n",
        "# lines to single text\n",
        "summary_ff = \"\\n\".join(lines)"
      ],
      "metadata": {
        "id": "d5HGD8ijMPj6"
      },
      "execution_count": 409,
      "outputs": []
    },
    {
      "cell_type": "code",
      "source": [
        "print(summary_ff)\n"
      ],
      "metadata": {
        "colab": {
          "base_uri": "https://localhost:8080/"
        },
        "id": "jUU50DmZMdGR",
        "outputId": "4d3f286a-ba32-4e39-c306-b2baf2751ba0"
      },
      "execution_count": 410,
      "outputs": [
        {
          "output_type": "stream",
          "name": "stdout",
          "text": [
            "- For loans with a total loan amount of Rs.7.50 lakh or less for the entire course, an encumbrance of one and a half times the value of the loan amount must be registered on the beneficiary's own or a relative's property .\n",
            "-In case of a loan of more than Rs.5.00 Lakhs, it has to be paid in equal monthly installments in 6 (six) years after 1 year of completion of studies .\n"
          ]
        }
      ]
    },
    {
      "cell_type": "code",
      "source": [
        "import pyperclip\n",
        "def summaryyy():\n",
        "  for ind in df.index:\n",
        "    if name_query_lower == df['Name'][ind]:\n",
        "      article = df['Bullets'][ind]\n",
        "  \n",
        "  summary = summarizer(article , max_length = 150 , min_length = 50, do_sample = False)\n",
        "  summary_f = summary[0]['summary_text']\n",
        "  pat = ('(?<!Dr)(?<!Esq)\\. +(?=[A-Z])')\n",
        "  summary_ff = re.sub(pat,'.\\n',summary_f)\n",
        "  lines = summary_ff.split(\"\\n\")\n",
        "  for i in range(len(lines)):\n",
        "    lines[i] = \"-\" + lines[i]\n",
        "  \n",
        "# converts the list of different\n",
        "# lines to single text\n",
        "  summary_ff = \"\\n\".join(lines)\n",
        "\n",
        "\n",
        "  return lines\n",
        "\n"
      ],
      "metadata": {
        "id": "3mEgmD5u5nYA"
      },
      "execution_count": 411,
      "outputs": []
    },
    {
      "cell_type": "code",
      "source": [
        "print(summaryyy())"
      ],
      "metadata": {
        "colab": {
          "base_uri": "https://localhost:8080/"
        },
        "id": "g77nEHfN7NK0",
        "outputId": "be3cd9e8-7bef-4919-c317-361d1a0d55f0"
      },
      "execution_count": 412,
      "outputs": [
        {
          "output_type": "stream",
          "name": "stdout",
          "text": [
            "[\"- For loans with a total loan amount of Rs.7.50 lakh or less for the entire course, an encumbrance of one and a half times the value of the loan amount must be registered on the beneficiary's own or a relative's property .\", '-In case of a loan of more than Rs.5.00 Lakhs, it has to be paid in equal monthly installments in 6 (six) years after 1 year of completion of studies .']\n"
          ]
        }
      ]
    },
    {
      "cell_type": "code",
      "source": [],
      "metadata": {
        "id": "Zt3YgmoD8toA"
      },
      "execution_count": 412,
      "outputs": []
    }
  ]
}