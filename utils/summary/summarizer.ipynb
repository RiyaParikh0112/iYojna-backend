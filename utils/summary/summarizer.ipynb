{
  "nbformat": 4,
  "nbformat_minor": 0,
  "metadata": {
    "colab": {
      "provenance": []
    },
    "kernelspec": {
      "name": "python3",
      "display_name": "Python 3"
    },
    "language_info": {
      "name": "python"
    }
  },
  "cells": [
    {
      "cell_type": "code",
      "execution_count": 476,
      "metadata": {
        "id": "TCj9RTKEm4Fn"
      },
      "outputs": [],
      "source": [
        "from transformers import pipeline"
      ]
    },
    {
      "cell_type": "code",
      "source": [
        "df = pd.read_csv('data.csv')"
      ],
      "metadata": {
        "id": "x-aF-KwSMjzJ"
      },
      "execution_count": 477,
      "outputs": []
    },
    {
      "cell_type": "code",
      "source": [
        "summarizer = pipeline('summarization')"
      ],
      "metadata": {
        "id": "Jte_fSRXFnGy",
        "colab": {
          "base_uri": "https://localhost:8080/"
        },
        "outputId": "c182091a-5f0f-4335-f596-da55ed32f857"
      },
      "execution_count": 478,
      "outputs": [
        {
          "output_type": "stream",
          "name": "stderr",
          "text": [
            "No model was supplied, defaulted to sshleifer/distilbart-cnn-12-6 and revision a4f8f3e (https://huggingface.co/sshleifer/distilbart-cnn-12-6).\n",
            "Using a pipeline without specifying a model name and revision in production is not recommended.\n"
          ]
        }
      ]
    },
    {
      "cell_type": "code",
      "source": [
        "df.head()"
      ],
      "metadata": {
        "id": "IDxplsX1gyUF",
        "colab": {
          "base_uri": "https://localhost:8080/",
          "height": 337
        },
        "outputId": "8932553c-ed58-4f72-d32b-2e7f45a9691d"
      },
      "execution_count": 479,
      "outputs": [
        {
          "output_type": "execute_result",
          "data": {
            "text/plain": [
              "                                        Name  \\\n",
              "0                        Academic study plan   \n",
              "1                         Study Abroad Loans   \n",
              "2                       Meal Bill Assistance   \n",
              "3                        Coaching assistance   \n",
              "4  Coaching help for JEE, GUJCET, NEET exam.   \n",
              "\n",
              "                                     Raw Description  \\\n",
              "0  State-run self-supporting graduate level cours...   \n",
              "1  Students from unreserved category for higher s...   \n",
              "2                                                NaN   \n",
              "3  Education or tuition fees paid in school/colle...   \n",
              "4  3 years for preparation of non-reserved class ...   \n",
              "\n",
              "                                        Income Limit  \\\n",
              "0  Annual family income limit of Rs.6.00 lakh or ...   \n",
              "1  Annual family income limit less than Rs.6.00 l...   \n",
              "2  Annual family income limit will be Rs.4.50 lak...   \n",
              "3   Annual family income limit Rs.4.50 lakh or less.   \n",
              "4   Annual family income limit Rs.4.50 lakh or less.   \n",
              "\n",
              "                                       Interest Rate  Link  \n",
              "0             Simple interest at 4 percent per annum   NaN  \n",
              "1  Simple interest compounded at 4 percent per an...   NaN  \n",
              "2                                                NaN   NaN  \n",
              "3                                                NaN   NaN  \n",
              "4                                                NaN   NaN  "
            ],
            "text/html": [
              "\n",
              "  <div id=\"df-2ae21e28-8e56-4d64-adf8-15c5e059f02b\">\n",
              "    <div class=\"colab-df-container\">\n",
              "      <div>\n",
              "<style scoped>\n",
              "    .dataframe tbody tr th:only-of-type {\n",
              "        vertical-align: middle;\n",
              "    }\n",
              "\n",
              "    .dataframe tbody tr th {\n",
              "        vertical-align: top;\n",
              "    }\n",
              "\n",
              "    .dataframe thead th {\n",
              "        text-align: right;\n",
              "    }\n",
              "</style>\n",
              "<table border=\"1\" class=\"dataframe\">\n",
              "  <thead>\n",
              "    <tr style=\"text-align: right;\">\n",
              "      <th></th>\n",
              "      <th>Name</th>\n",
              "      <th>Raw Description</th>\n",
              "      <th>Income Limit</th>\n",
              "      <th>Interest Rate</th>\n",
              "      <th>Link</th>\n",
              "    </tr>\n",
              "  </thead>\n",
              "  <tbody>\n",
              "    <tr>\n",
              "      <th>0</th>\n",
              "      <td>Academic study plan</td>\n",
              "      <td>State-run self-supporting graduate level cours...</td>\n",
              "      <td>Annual family income limit of Rs.6.00 lakh or ...</td>\n",
              "      <td>Simple interest at 4 percent per annum</td>\n",
              "      <td>NaN</td>\n",
              "    </tr>\n",
              "    <tr>\n",
              "      <th>1</th>\n",
              "      <td>Study Abroad Loans</td>\n",
              "      <td>Students from unreserved category for higher s...</td>\n",
              "      <td>Annual family income limit less than Rs.6.00 l...</td>\n",
              "      <td>Simple interest compounded at 4 percent per an...</td>\n",
              "      <td>NaN</td>\n",
              "    </tr>\n",
              "    <tr>\n",
              "      <th>2</th>\n",
              "      <td>Meal Bill Assistance</td>\n",
              "      <td>NaN</td>\n",
              "      <td>Annual family income limit will be Rs.4.50 lak...</td>\n",
              "      <td>NaN</td>\n",
              "      <td>NaN</td>\n",
              "    </tr>\n",
              "    <tr>\n",
              "      <th>3</th>\n",
              "      <td>Coaching assistance</td>\n",
              "      <td>Education or tuition fees paid in school/colle...</td>\n",
              "      <td>Annual family income limit Rs.4.50 lakh or less.</td>\n",
              "      <td>NaN</td>\n",
              "      <td>NaN</td>\n",
              "    </tr>\n",
              "    <tr>\n",
              "      <th>4</th>\n",
              "      <td>Coaching help for JEE, GUJCET, NEET exam.</td>\n",
              "      <td>3 years for preparation of non-reserved class ...</td>\n",
              "      <td>Annual family income limit Rs.4.50 lakh or less.</td>\n",
              "      <td>NaN</td>\n",
              "      <td>NaN</td>\n",
              "    </tr>\n",
              "  </tbody>\n",
              "</table>\n",
              "</div>\n",
              "      <button class=\"colab-df-convert\" onclick=\"convertToInteractive('df-2ae21e28-8e56-4d64-adf8-15c5e059f02b')\"\n",
              "              title=\"Convert this dataframe to an interactive table.\"\n",
              "              style=\"display:none;\">\n",
              "        \n",
              "  <svg xmlns=\"http://www.w3.org/2000/svg\" height=\"24px\"viewBox=\"0 0 24 24\"\n",
              "       width=\"24px\">\n",
              "    <path d=\"M0 0h24v24H0V0z\" fill=\"none\"/>\n",
              "    <path d=\"M18.56 5.44l.94 2.06.94-2.06 2.06-.94-2.06-.94-.94-2.06-.94 2.06-2.06.94zm-11 1L8.5 8.5l.94-2.06 2.06-.94-2.06-.94L8.5 2.5l-.94 2.06-2.06.94zm10 10l.94 2.06.94-2.06 2.06-.94-2.06-.94-.94-2.06-.94 2.06-2.06.94z\"/><path d=\"M17.41 7.96l-1.37-1.37c-.4-.4-.92-.59-1.43-.59-.52 0-1.04.2-1.43.59L10.3 9.45l-7.72 7.72c-.78.78-.78 2.05 0 2.83L4 21.41c.39.39.9.59 1.41.59.51 0 1.02-.2 1.41-.59l7.78-7.78 2.81-2.81c.8-.78.8-2.07 0-2.86zM5.41 20L4 18.59l7.72-7.72 1.47 1.35L5.41 20z\"/>\n",
              "  </svg>\n",
              "      </button>\n",
              "      \n",
              "  <style>\n",
              "    .colab-df-container {\n",
              "      display:flex;\n",
              "      flex-wrap:wrap;\n",
              "      gap: 12px;\n",
              "    }\n",
              "\n",
              "    .colab-df-convert {\n",
              "      background-color: #E8F0FE;\n",
              "      border: none;\n",
              "      border-radius: 50%;\n",
              "      cursor: pointer;\n",
              "      display: none;\n",
              "      fill: #1967D2;\n",
              "      height: 32px;\n",
              "      padding: 0 0 0 0;\n",
              "      width: 32px;\n",
              "    }\n",
              "\n",
              "    .colab-df-convert:hover {\n",
              "      background-color: #E2EBFA;\n",
              "      box-shadow: 0px 1px 2px rgba(60, 64, 67, 0.3), 0px 1px 3px 1px rgba(60, 64, 67, 0.15);\n",
              "      fill: #174EA6;\n",
              "    }\n",
              "\n",
              "    [theme=dark] .colab-df-convert {\n",
              "      background-color: #3B4455;\n",
              "      fill: #D2E3FC;\n",
              "    }\n",
              "\n",
              "    [theme=dark] .colab-df-convert:hover {\n",
              "      background-color: #434B5C;\n",
              "      box-shadow: 0px 1px 3px 1px rgba(0, 0, 0, 0.15);\n",
              "      filter: drop-shadow(0px 1px 2px rgba(0, 0, 0, 0.3));\n",
              "      fill: #FFFFFF;\n",
              "    }\n",
              "  </style>\n",
              "\n",
              "      <script>\n",
              "        const buttonEl =\n",
              "          document.querySelector('#df-2ae21e28-8e56-4d64-adf8-15c5e059f02b button.colab-df-convert');\n",
              "        buttonEl.style.display =\n",
              "          google.colab.kernel.accessAllowed ? 'block' : 'none';\n",
              "\n",
              "        async function convertToInteractive(key) {\n",
              "          const element = document.querySelector('#df-2ae21e28-8e56-4d64-adf8-15c5e059f02b');\n",
              "          const dataTable =\n",
              "            await google.colab.kernel.invokeFunction('convertToInteractive',\n",
              "                                                     [key], {});\n",
              "          if (!dataTable) return;\n",
              "\n",
              "          const docLinkHtml = 'Like what you see? Visit the ' +\n",
              "            '<a target=\"_blank\" href=https://colab.research.google.com/notebooks/data_table.ipynb>data table notebook</a>'\n",
              "            + ' to learn more about interactive tables.';\n",
              "          element.innerHTML = '';\n",
              "          dataTable['output_type'] = 'display_data';\n",
              "          await google.colab.output.renderOutput(dataTable, element);\n",
              "          const docLink = document.createElement('div');\n",
              "          docLink.innerHTML = docLinkHtml;\n",
              "          element.appendChild(docLink);\n",
              "        }\n",
              "      </script>\n",
              "    </div>\n",
              "  </div>\n",
              "  "
            ]
          },
          "metadata": {},
          "execution_count": 479
        }
      ]
    },
    {
      "cell_type": "code",
      "source": [
        "df['Raw Description'][3]"
      ],
      "metadata": {
        "id": "Td7QxJP-oQpT",
        "colab": {
          "base_uri": "https://localhost:8080/",
          "height": 107
        },
        "outputId": "d1d6e81f-b4e8-4f50-d3ef-53edb7925097"
      },
      "execution_count": 484,
      "outputs": [
        {
          "output_type": "execute_result",
          "data": {
            "text/plain": [
              "'Education or tuition fees paid in school/college are not eligible under tuition assistance scheme. Any additional tuition taken outside the school or college is eligible for assistance Tuition incentive assistance of Rs.15,000/- per annum will be given to non-reserved category students who have secured 70% in class-10th and are studying in science stream in class-11th, 12th. Eligibility Criteria: 70 percent or above in class-10th. Assistance will be available only once in every year. Income Limit: Annual family income limit of Rs.4.50 lakh or less.'"
            ],
            "application/vnd.google.colaboratory.intrinsic+json": {
              "type": "string"
            }
          },
          "metadata": {},
          "execution_count": 484
        }
      ]
    },
    {
      "cell_type": "code",
      "source": [],
      "metadata": {
        "id": "GS220qCazy2y"
      },
      "execution_count": 480,
      "outputs": []
    },
    {
      "cell_type": "code",
      "source": [
        "df['Name']=df['Name'].astype(str).str.lower()"
      ],
      "metadata": {
        "id": "b6ylj2A0AhMM"
      },
      "execution_count": 485,
      "outputs": []
    },
    {
      "cell_type": "code",
      "source": [
        "name_query = \"Coaching for Competitive Exams\"\n",
        "name_query_lower = name_query.lower()"
      ],
      "metadata": {
        "id": "CpVTZRidv0_c"
      },
      "execution_count": 486,
      "outputs": []
    },
    {
      "cell_type": "code",
      "source": [
        "for ind in df.index:\n",
        "    # print(df['Name'][ind])\n",
        "    if name_query_lower == df['Name'][ind]:\n",
        "      article = df['Raw Description'][ind]\n",
        "\n",
        "print(article)"
      ],
      "metadata": {
        "id": "GGHUVQEpw8nM",
        "colab": {
          "base_uri": "https://localhost:8080/"
        },
        "outputId": "1f76b8d3-cf54-418f-e923-9dc5d1ae9c9f"
      },
      "execution_count": 487,
      "outputs": [
        {
          "output_type": "stream",
          "name": "stdout",
          "text": [
            "Unreserved category students can apply for UPSC, GPSC Class-1, Class-2 and Class-3, Secondary Service Selection Board, Panchayat Service Selection Board and Railways of Government of India. , recognition/selection for recruitment examinations held in banks etc\r 20,000/- per student or actual fees paid whichever is lower as direct assistance (DBT) to the students undergoing training in the established institution. Eligibility Criteria: 60% or more in Class 12th. Income Limit: Annual family income limit of Rs.4.50 lakh or less.\n"
          ]
        }
      ]
    },
    {
      "cell_type": "code",
      "source": [
        "summary = summarizer(article , max_length = 150 , min_length = 50, do_sample = False)"
      ],
      "metadata": {
        "id": "I6h5LQxxHo4f",
        "colab": {
          "base_uri": "https://localhost:8080/"
        },
        "outputId": "09cec543-99fd-4651-b3e2-e837bded0553"
      },
      "execution_count": 488,
      "outputs": [
        {
          "output_type": "stream",
          "name": "stderr",
          "text": [
            "Your max_length is set to 150, but you input_length is only 121. You might consider decreasing max_length manually, e.g. summarizer('...', max_length=60)\n"
          ]
        }
      ]
    },
    {
      "cell_type": "code",
      "source": [
        "summary"
      ],
      "metadata": {
        "id": "ZvTOnQW11NrE",
        "colab": {
          "base_uri": "https://localhost:8080/"
        },
        "outputId": "59481ca9-a727-41cb-afda-35761366c9e4"
      },
      "execution_count": 489,
      "outputs": [
        {
          "output_type": "execute_result",
          "data": {
            "text/plain": [
              "[{'summary_text': ' Unreserved category students can apply for UPSC, GPSC Class-1, Class-2 and Class-3 . Eligibility Criteria: 60% or more in Class 12th . Income Limit: Annual family income limit of Rs.4.50 lakh or less .'}]"
            ]
          },
          "metadata": {},
          "execution_count": 489
        }
      ]
    },
    {
      "cell_type": "code",
      "source": [
        "summary_f = summary[0]['summary_text']"
      ],
      "metadata": {
        "id": "Upq4B7N11bei"
      },
      "execution_count": 490,
      "outputs": []
    },
    {
      "cell_type": "code",
      "source": [
        "import re\n",
        "import pandas as pd"
      ],
      "metadata": {
        "id": "LKgvqtaFH1E8"
      },
      "execution_count": 491,
      "outputs": []
    },
    {
      "cell_type": "code",
      "source": [
        "pat = ('(?<!Dr)(?<!Esq)\\. +(?=[A-Z])')"
      ],
      "metadata": {
        "id": "5sBZ3TNLJJN5"
      },
      "execution_count": 492,
      "outputs": []
    },
    {
      "cell_type": "code",
      "source": [
        "summary_ff = re.sub(pat,'.\\n',summary_f)"
      ],
      "metadata": {
        "id": "uz0HdI3QLek1"
      },
      "execution_count": 493,
      "outputs": []
    },
    {
      "cell_type": "code",
      "source": [
        "import pyperclip"
      ],
      "metadata": {
        "id": "l9YvW5vPL2dz"
      },
      "execution_count": 494,
      "outputs": []
    },
    {
      "cell_type": "code",
      "source": [
        "lines = summary_ff.split(\"\\n\")"
      ],
      "metadata": {
        "id": "lKQhrXcBL8pk"
      },
      "execution_count": 495,
      "outputs": []
    },
    {
      "cell_type": "code",
      "source": [
        "\n",
        "for i in range(len(lines)):\n",
        "    lines[i] = \"-\" + lines[i]\n",
        "  \n",
        "# converts the list of different\n",
        "# lines to single text\n",
        "summary_ff = \"\\n\".join(lines)"
      ],
      "metadata": {
        "id": "d5HGD8ijMPj6"
      },
      "execution_count": 496,
      "outputs": []
    },
    {
      "cell_type": "code",
      "source": [
        "print(summary_ff)\n"
      ],
      "metadata": {
        "id": "jUU50DmZMdGR",
        "colab": {
          "base_uri": "https://localhost:8080/"
        },
        "outputId": "6c1d6ea0-fbf4-4966-ce62-5c57a42e141a"
      },
      "execution_count": 497,
      "outputs": [
        {
          "output_type": "stream",
          "name": "stdout",
          "text": [
            "- Unreserved category students can apply for UPSC, GPSC Class-1, Class-2 and Class-3 .\n",
            "-Eligibility Criteria: 60% or more in Class 12th .\n",
            "-Income Limit: Annual family income limit of Rs.4.50 lakh or less .\n"
          ]
        }
      ]
    },
    {
      "cell_type": "code",
      "source": [
        "import pyperclip\n",
        "def summaryyy():\n",
        "  for ind in df.index:\n",
        "    if name_query_lower == df['Name'][ind]:\n",
        "      article = df['Raw Description'][ind]\n",
        "  \n",
        "  summary = summarizer(article , max_length = 150 , min_length = 50, do_sample = False)\n",
        "  summary_f = summary[0]['summary_text']\n",
        "  pat = ('(?<!Dr)(?<!Esq)\\. +(?=[A-Z])')\n",
        "  summary_ff = re.sub(pat,'.\\n',summary_f)\n",
        "  lines = summary_ff.split(\"\\n\")\n",
        "#   for i in range(len(lines)):\n",
        "#     lines[i] = \"-\" + lines[i]\n",
        "  \n",
        "# # converts the list of different\n",
        "# # lines to single text\n",
        "#   summary_ff = \"\\n\".join(lines)\n",
        "\n",
        "\n",
        "  return lines\n",
        "\n"
      ],
      "metadata": {
        "id": "3mEgmD5u5nYA"
      },
      "execution_count": 498,
      "outputs": []
    },
    {
      "cell_type": "code",
      "source": [
        "print(summaryyy())"
      ],
      "metadata": {
        "id": "g77nEHfN7NK0",
        "colab": {
          "base_uri": "https://localhost:8080/"
        },
        "outputId": "69d6ef41-da46-40dc-d1fd-7e586ebc8d02"
      },
      "execution_count": 499,
      "outputs": [
        {
          "output_type": "stream",
          "name": "stderr",
          "text": [
            "Your max_length is set to 150, but you input_length is only 121. You might consider decreasing max_length manually, e.g. summarizer('...', max_length=60)\n"
          ]
        },
        {
          "output_type": "stream",
          "name": "stdout",
          "text": [
            "[' Unreserved category students can apply for UPSC, GPSC Class-1, Class-2 and Class-3 .', 'Eligibility Criteria: 60% or more in Class 12th .', 'Income Limit: Annual family income limit of Rs.4.50 lakh or less .']\n"
          ]
        }
      ]
    },
    {
      "cell_type": "code",
      "source": [],
      "metadata": {
        "id": "Zt3YgmoD8toA"
      },
      "execution_count": null,
      "outputs": []
    }
  ]
}